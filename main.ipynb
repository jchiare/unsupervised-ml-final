{
 "cells": [
  {
   "cell_type": "markdown",
   "metadata": {},
   "source": [
    "For the final project, you will identify an Unsupervised Learning problem to perform EDA and\n",
    "model analysis.\n",
    "\n",
    "Instructions: Step 1\n",
    "Gather data, determine the method of data collection and provenance of the data (3 points)\n",
    "In the earliest phase, select a data source and problem. Feel free to share and discuss your idea on\n",
    "the class discussion board.\n",
    "Instructions: Step 2\n",
    "Identify an Unsupervised Learning Problem (6 points)\n",
    "Model building and training may depend on their data type(s) and task type(s). When using\n",
    "multiple models, at least one of them should be an unsupervised approach.\n",
    "If you're going to use a Kaggle competition or similar, you must focus more on model building\n",
    "and/or analysis to be a valid project. Replicating what's in the Kaggle kernel or other notebooks\n",
    "available online is not a valid project. It is reasonable to add different approaches and compare\n",
    "them with the Kaggle kernel or other notebooks available online. It is also good to find a research\n",
    "paper, implement an algorithm, and run experiments comparing its performance to different\n",
    "algorithms."
   ]
  },
  {
   "cell_type": "markdown",
   "metadata": {},
   "source": [
    "# Problem description\n",
    "\n",
    "We will use a unsupervised machine learning algorithm to categorize Customer Support help center articles. The problem we are trying to solve is that searching a few hundred help center article has a better user experience when you can use tags to find articles that matter to you. This will also be used for search. "
   ]
  },
  {
   "cell_type": "markdown",
   "metadata": {},
   "source": [
    "# Step 1: Gather data\n",
    "\n",
    "In the next section, I'll create a function that will download the text from a specific help center that uses Zendesk (A SaaS). We check if the data already exists at `data/articles.csv`, if it does then we don't get the data again."
   ]
  },
  {
   "cell_type": "code",
   "execution_count": null,
   "metadata": {},
   "outputs": [],
   "source": [
    "# Data Collection\n",
    "import requests\n",
    "import pandas as pd\n",
    "import os\n",
    "\n",
    "def fetch_articles():\n",
    "    url = \"https://support.amboss.com/api/v2/help_center/en-us/articles?per_page=100\"\n",
    "    all_articles = []\n",
    "\n",
    "    while url:\n",
    "        response = requests.get(url)\n",
    "        data = response.json()\n",
    "        all_articles.extend(data['articles'])\n",
    "        url = data.get('next_page')\n",
    "\n",
    "    return all_articles\n",
    "\n",
    "def save_articles_to_csv(articles, filename):\n",
    "    df = pd.DataFrame(articles)\n",
    "    df.to_csv(filename, index=False)\n",
    "\n",
    "file_path = 'data/articles.csv'\n",
    "\n",
    "if not os.path.exists(file_path):\n",
    "    os.makedirs(os.path.dirname(file_path), exist_ok=True)\n",
    "    articles = fetch_articles()\n",
    "    save_articles_to_csv(articles, file_path)\n",
    "    print(f\"Articles saved to {file_path}\")\n",
    "else:\n",
    "    print(f\"File {file_path} already exists. Skipping data collection.\")\n"
   ]
  },
  {
   "cell_type": "markdown",
   "metadata": {},
   "source": [
    "For the final project, you will identify an Unsupervised Learning problem to perform EDA and\n",
    "model analysis.\n",
    "\n",
    "Instructions: Step 1\n",
    "Gather data, determine the method of data collection and provenance of the data (3 points)\n",
    "In the earliest phase, select a data source and problem. Feel free to share and discuss your idea on\n",
    "the class discussion board.\n",
    "Instructions: Step 2\n",
    "Identify an Unsupervised Learning Problem (6 points)\n",
    "Model building and training may depend on their data type(s) and task type(s). When using\n",
    "multiple models, at least one of them should be an unsupervised approach.\n",
    "If you're going to use a Kaggle competition or similar, you must focus more on model building\n",
    "and/or analysis to be a valid project. Replicating what's in the Kaggle kernel or other notebooks\n",
    "available online is not a valid project. It is reasonable to add different approaches and compare\n",
    "them with the Kaggle kernel or other notebooks available online. It is also good to find a research\n",
    "paper, implement an algorithm, and run experiments comparing its performance to different\n",
    "algorithms."
   ]
  }
 ],
 "metadata": {
  "language_info": {
   "name": "python"
  }
 },
 "nbformat": 4,
 "nbformat_minor": 2
}
